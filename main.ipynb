{
 "cells": [
  {
   "cell_type": "code",
   "execution_count": 3,
   "metadata": {},
   "outputs": [
    {
     "ename": "ImportError",
     "evalue": "No module named 'build'",
     "output_type": "error",
     "traceback": [
      "\u001b[0;31m---------------------------------------------------------------------------\u001b[0m",
      "\u001b[0;31mImportError\u001b[0m                               Traceback (most recent call last)",
      "\u001b[0;32m<ipython-input-3-6f840010f739>\u001b[0m in \u001b[0;36m<module>\u001b[0;34m()\u001b[0m\n\u001b[1;32m      1\u001b[0m \u001b[0;32mimport\u001b[0m \u001b[0mnumpy\u001b[0m \u001b[0;32mas\u001b[0m \u001b[0mnp\u001b[0m\u001b[0;34m\u001b[0m\u001b[0m\n\u001b[0;32m----> 2\u001b[0;31m \u001b[0;32mfrom\u001b[0m \u001b[0mdecision_tree\u001b[0m \u001b[0;32mimport\u001b[0m \u001b[0mDecisionTree\u001b[0m\u001b[0;34m\u001b[0m\u001b[0m\n\u001b[0m\u001b[1;32m      3\u001b[0m \u001b[0;32mfrom\u001b[0m \u001b[0mrandom_forest\u001b[0m \u001b[0;32mimport\u001b[0m \u001b[0mRandomForest\u001b[0m\u001b[0;34m\u001b[0m\u001b[0m\n\u001b[1;32m      4\u001b[0m \u001b[0;32mfrom\u001b[0m \u001b[0mlogistic_regression\u001b[0m \u001b[0;32mimport\u001b[0m \u001b[0mgradient_descent\u001b[0m\u001b[0;34m,\u001b[0m\u001b[0msigmoid\u001b[0m\u001b[0;34m\u001b[0m\u001b[0m\n",
      "\u001b[0;32m/home/mary/MAD/decision_tree.py\u001b[0m in \u001b[0;36m<module>\u001b[0;34m()\u001b[0m\n\u001b[1;32m      1\u001b[0m \u001b[0;32mimport\u001b[0m \u001b[0mnumpy\u001b[0m \u001b[0;32mas\u001b[0m \u001b[0mnp\u001b[0m\u001b[0;34m\u001b[0m\u001b[0m\n\u001b[0;32m----> 2\u001b[0;31m \u001b[0;32mfrom\u001b[0m \u001b[0mbuild\u001b[0m \u001b[0;32mimport\u001b[0m \u001b[0mbuild_tree\u001b[0m\u001b[0;34m\u001b[0m\u001b[0m\n\u001b[0m\u001b[1;32m      3\u001b[0m \u001b[0;34m\u001b[0m\u001b[0m\n\u001b[1;32m      4\u001b[0m \u001b[0;34m\u001b[0m\u001b[0m\n\u001b[1;32m      5\u001b[0m \u001b[0;32mclass\u001b[0m \u001b[0mDecisionTree\u001b[0m\u001b[0;34m(\u001b[0m\u001b[0mobject\u001b[0m\u001b[0;34m)\u001b[0m\u001b[0;34m:\u001b[0m\u001b[0;34m\u001b[0m\u001b[0m\n",
      "\u001b[0;31mImportError\u001b[0m: No module named 'build'"
     ]
    }
   ],
   "source": [
    "import numpy as np\n",
    "from decision_tree import DecisionTree\n",
    "from random_forest import RandomForest\n",
    "from logistic_regression import gradient_descent,sigmoid"
   ]
  },
  {
   "cell_type": "code",
   "execution_count": 4,
   "metadata": {
    "collapsed": true
   },
   "outputs": [],
   "source": [
    "def accuracy_score(Y_true, Y_predict):\n",
    "    true_predictions = sum([int(true_value == predict_value) for true_value, predict_value in zip(Y_true, Y_predict)])  \n",
    "    return true_predictions / len(Y_true)\n"
   ]
  },
  {
   "cell_type": "code",
   "execution_count": 5,
   "metadata": {
    "collapsed": true
   },
   "outputs": [],
   "source": [
    "\n",
    "def evaluate_performance():\n",
    "    '''\n",
    "    Evaluate the performance of decision trees and logistic regression,\n",
    "    average over 1,000 trials of 10-fold cross validation\n",
    "\n",
    "    Return:\n",
    "      a matrix giving the performance that will contain the following entries:\n",
    "      stats[0,0] = mean accuracy of decision tree\n",
    "      stats[0,1] = std deviation of decision tree accuracy\n",
    "      stats[1,0] = mean accuracy of logistic regression\n",
    "      stats[1,1] = std deviation of logistic regression accuracy\n",
    "\n",
    "    '''\n",
    "\n",
    "    # Load Data\n",
    "    filename = 'SPECTF.dat'\n",
    "    data = np.loadtxt(filename, delimiter=',')\n",
    "    print(data[:5, :])\n",
    "    X = data[:, 1:]\n",
    "    y = np.array([data[:, 0]]).T\n",
    "    n = X.shape[0]\n",
    "    all_accuracies = []\n",
    "    all_accuracies_RF = []\n",
    "    all_accuracies_log = []\n",
    "    for trial in range(10):\n",
    "        idx = np.arange(n)\n",
    "        np.random.seed(trial)\n",
    "        np.random.shuffle(idx)\n",
    "        X = X[idx]\n",
    "        y = y[idx]\n",
    "        Xtrain = X[0:200, :]  # train on first 200 instances\n",
    "        Xtest = X[200:, :]\n",
    "        ytrain = y[0:200, :]  # test on remaining instances\n",
    "        ytest = y[200:, :]\n",
    "\n",
    "        # train the decision tree\n",
    "        classifier = DecisionTree(100)\n",
    "        classifier.fit(Xtrain, ytrain)\n",
    "        # train the random forest\n",
    "        classifier1 = RandomForest(num_trees=10, max_tree_depth=100, ratio_per_tree=0.7)\n",
    "        classifier1.fit(Xtrain, ytrain)\n",
    "        # run logistic regression\n",
    "        Xtrain = np.column_stack((np.ones(Xtrain.shape[0]), Xtrain))\n",
    "        beta, feature_means = gradient_descent(Xtrain, ytrain,step_size=1e-2, max_steps=100)\n",
    "        for i in range(len(beta)):\n",
    "            beta[i] /= feature_means[i]\n",
    "        \n",
    "        # output predictions on the remaining data\n",
    "        y_pred = classifier.predict(Xtest)\n",
    "        \n",
    "        y_pred_RF = classifier1.predict(Xtest)\n",
    "\n",
    "        y_pred_log = []\n",
    "        Xtest = np.column_stack((np.ones(Xtest.shape[0]), Xtest))\n",
    "        for elem in Xtest:\n",
    "            if elem.dot(beta) > 0:\n",
    "                y_pred_log.append(1)\n",
    "            else:\n",
    "                y_pred_log.append(0)\n",
    "                \n",
    "        # compute the training accuracy of the model\n",
    "        accuracy = accuracy_score(ytest, y_pred)\n",
    "        all_accuracies.append(accuracy)\n",
    "        \n",
    "        accuracy_RF = accuracy_score(ytest, y_pred_RF)\n",
    "        all_accuracies_RF.append(accuracy_RF)\n",
    "        \n",
    "        accuracy_log = accuracy_score(ytest, y_pred_log)\n",
    "        all_accuracies_log.append(accuracy_log)\n",
    "        \n",
    "        \n",
    "    meanDecisionTreeAccuracy = np.mean(all_accuracies)\n",
    "    meanRandomForestAccuracy = np.mean(all_accuracies_RF)\n",
    "    stddevDecisionTreeAccuracy = np.std(all_accuracies)\n",
    "    stddevRandomForestAccuracy = np.std(all_accuracies_RF)\n",
    "    meanLogisticRegressionAccuracy = np.mean(all_accuracies_log)\n",
    "    stddevLogisticRegressionAccuracy = np.std(all_accuracies_log)\n",
    "    \n",
    "    # make certain that the return value matches the API specification\n",
    "    stats = np.zeros((3, 2))\n",
    "    stats[0, 0] = meanDecisionTreeAccuracy\n",
    "    stats[0, 1] = stddevDecisionTreeAccuracy\n",
    "    stats[1, 0] = meanRandomForestAccuracy\n",
    "    stats[1, 1] = stddevRandomForestAccuracy\n",
    "    stats[2, 0] = meanLogisticRegressionAccuracy\n",
    "    stats[2, 1] = stddevLogisticRegressionAccuracy\n",
    "    \n",
    "    return stats   \n",
    "\n"
   ]
  },
  {
   "cell_type": "code",
   "execution_count": null,
   "metadata": {
    "collapsed": true
   },
   "outputs": [],
   "source": [
    "stats = evaluate_performance()\n",
    "print(\"Decision Tree Accuracy = \", stats[0, 0], \" (\", stats[0, 1], \")\")\n",
    "print(\"Random Forest Accuracy = \", stats[1, 0], \" (\", stats[1, 1], \")\")\n",
    "print(\"Logistic Reg. Accuracy = \", stats[2, 0], \" (\", stats[2, 1], \")\")"
   ]
  }
 ],
 "metadata": {
  "kernelspec": {
   "display_name": "Python 3",
   "language": "python",
   "name": "python3"
  },
  "language_info": {
   "codemirror_mode": {
    "name": "ipython",
    "version": 3
   },
   "file_extension": ".py",
   "mimetype": "text/x-python",
   "name": "python",
   "nbconvert_exporter": "python",
   "pygments_lexer": "ipython3",
   "version": "3.5.2"
  }
 },
 "nbformat": 4,
 "nbformat_minor": 2
}
